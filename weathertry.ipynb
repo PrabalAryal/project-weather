{
 "cells": [
  {
   "cell_type": "code",
   "execution_count": 71,
   "metadata": {},
   "outputs": [],
   "source": [
    "import requests"
   ]
  },
  {
   "cell_type": "code",
   "execution_count": 72,
   "metadata": {},
   "outputs": [],
   "source": [
    "import pandas as pd\n",
    "import matplotlib.pyplot as plt\n",
    "import numpy as np"
   ]
  },
  {
   "cell_type": "code",
   "execution_count": 73,
   "metadata": {},
   "outputs": [],
   "source": [
    "from datetime import datetime"
   ]
  },
  {
   "cell_type": "code",
   "execution_count": 74,
   "metadata": {},
   "outputs": [],
   "source": [
    "current_date_only = datetime.today().date().strftime(\"%d-%m-%Y\")"
   ]
  },
  {
   "cell_type": "code",
   "execution_count": 75,
   "metadata": {},
   "outputs": [
    {
     "name": "stdout",
     "output_type": "stream",
     "text": [
      "22-07-2023\n"
     ]
    }
   ],
   "source": [
    "print(current_date_only)"
   ]
  },
  {
   "cell_type": "code",
   "execution_count": 76,
   "metadata": {},
   "outputs": [],
   "source": [
    "response=requests.get('https://api.openweathermap.org/data/2.5/weather?lat=27.700769&lon=85.300140&date={current_date_only}&appid=c007f3fc3a422083d719d41a4a511272')"
   ]
  },
  {
   "cell_type": "code",
   "execution_count": 77,
   "metadata": {},
   "outputs": [],
   "source": [
    "weathertoday=response.json()"
   ]
  },
  {
   "cell_type": "code",
   "execution_count": 78,
   "metadata": {},
   "outputs": [
    {
     "name": "stdout",
     "output_type": "stream",
     "text": [
      "{'coord': {'lon': 85.3001, 'lat': 27.7008}, 'weather': [{'id': 802, 'main': 'Clouds', 'description': 'scattered clouds', 'icon': '03d'}], 'base': 'stations', 'main': {'temp': 303.2, 'feels_like': 306.08, 'temp_min': 302.42, 'temp_max': 303.2, 'pressure': 1014, 'humidity': 60}, 'visibility': 10000, 'wind': {'speed': 1.03, 'deg': 0}, 'clouds': {'all': 40}, 'dt': 1690011974, 'sys': {'type': 2, 'id': 2080684, 'country': 'NP', 'sunrise': 1689982557, 'sunset': 1690031647}, 'timezone': 20700, 'id': 7113953, 'name': 'Thamel', 'cod': 200}\n"
     ]
    }
   ],
   "source": [
    "print(weathertoday)"
   ]
  },
  {
   "cell_type": "code",
   "execution_count": 79,
   "metadata": {},
   "outputs": [],
   "source": [
    "weather_data = {\n",
    "    \"Temperature\": weathertoday[\"main\"][\"temp\"],\n",
    "    \"Humidity\": weathertoday[\"main\"][\"humidity\"],\n",
    "    \"Weather Description\": weathertoday[\"weather\"][0][\"description\"],\n",
    "    \"City\": weathertoday[\"name\"]\n",
    "}"
   ]
  },
  {
   "cell_type": "code",
   "execution_count": 80,
   "metadata": {},
   "outputs": [
    {
     "name": "stdout",
     "output_type": "stream",
     "text": [
      "{'Temperature': 303.2, 'Humidity': 60, 'Weather Description': 'scattered clouds', 'City': 'Thamel'}\n"
     ]
    }
   ],
   "source": [
    "print(weather_data)"
   ]
  },
  {
   "cell_type": "code",
   "execution_count": 81,
   "metadata": {},
   "outputs": [],
   "source": [
    "weather_data1 = {\n",
    "    \"Temperature\": weathertoday[\"main\"][\"temp\"],\n",
    "    \"Humidity\": weathertoday[\"main\"][\"humidity\"],\n",
    "    \"Weather Description\": weathertoday[\"weather\"][0][\"description\"],\n",
    "    \"City\": weathertoday[\"name\"]\n",
    "}"
   ]
  },
  {
   "cell_type": "code",
   "execution_count": null,
   "metadata": {},
   "outputs": [],
   "source": []
  }
 ],
 "metadata": {
  "kernelspec": {
   "display_name": "Python 3",
   "language": "python",
   "name": "python3"
  },
  "language_info": {
   "codemirror_mode": {
    "name": "ipython",
    "version": 3
   },
   "file_extension": ".py",
   "mimetype": "text/x-python",
   "name": "python",
   "nbconvert_exporter": "python",
   "pygments_lexer": "ipython3",
   "version": "3.11.1"
  },
  "orig_nbformat": 4
 },
 "nbformat": 4,
 "nbformat_minor": 2
}
